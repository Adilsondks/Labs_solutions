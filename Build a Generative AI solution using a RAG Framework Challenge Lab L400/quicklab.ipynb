{
 "cells": [
  {
   "cell_type": "code",
   "execution_count": null,
   "id": "aef56a4a-a152-42bb-a1cf-489c5c6a5bbf",
   "metadata": {
    "tags": []
   },
   "outputs": [],
   "source": [
    "!pip install --upgrade --user google-cloud-aiplatform google-cloud-storage firebase-admin\n",
    "!pip install langchain_community\n",
    "!pip install google-cloud-aiplatform\n",
    "!pip install google-cloud-storage\n",
    "!pip install langchain_community\n",
    "!pip install langchain\n",
    "!pip install pymuPDF\n",
    "!pip install -U langchain-google-vertexai\n"
   ]
  },
  {
   "cell_type": "code",
   "execution_count": null,
   "id": "7cc102f4-224b-40ab-9d5c-c5aeb8ba6cdb",
   "metadata": {
    "tags": []
   },
   "outputs": [],
   "source": [
    "import IPython\n",
    "from IPython.display import Markdown, display\n",
    "import time\n",
    "\n",
    "app = IPython.Application.instance()\n",
    "app.kernel.do_shutdown(True)"
   ]
  },
  {
   "cell_type": "code",
   "execution_count": null,
   "id": "531b56fa-8fe6-4f17-9fdd-9c25f3908505",
   "metadata": {
    "tags": []
   },
   "outputs": [],
   "source": [
    "# get project ID\n",
    "PROJECT_ID = ! gcloud config get project\n",
    "PROJECT_ID = PROJECT_ID[0]\n",
    "LOCATION = \"us-central1\"\n",
    "\n",
    "# generate an unique id for this session\n",
    "from datetime import datetime\n",
    "\n",
    "UID = datetime.now().strftime(\"%m%d%H%M\")"
   ]
  },
  {
   "cell_type": "code",
   "execution_count": null,
   "id": "3f78b4f3-9f86-460d-bd62-993e3379192f",
   "metadata": {
    "tags": []
   },
   "outputs": [],
   "source": [
    "! gcloud services enable compute.googleapis.com aiplatform.googleapis.com storage.googleapis.com --project \"{PROJECT_ID}\"\n"
   ]
  },
  {
   "cell_type": "code",
   "execution_count": null,
   "id": "c5d07ed1-4a87-4728-a521-dc7309e3842f",
   "metadata": {
    "tags": []
   },
   "outputs": [],
   "source": [
    "from google.cloud import firestore\n",
    "\n",
    "# Initialize Firestore\n",
    "db = firestore.Client(project=PROJECT_ID)\n",
    "\n",
    "# Verify that the database is ready\n",
    "print(\"Firestore database initialized.\")"
   ]
  },
  {
   "cell_type": "code",
   "execution_count": null,
   "id": "3a97087a-8223-4b7a-94b3-9a974cc4c963",
   "metadata": {
    "tags": []
   },
   "outputs": [],
   "source": [
    "import requests\n",
    "\n",
    "# URL of the PDF file\n",
    "url = \"https://www.nyc.gov/assets/doh/downloads/pdf/rii/fpc-manual.pdf\"\n",
    "\n",
    "# Download the PDF file\n",
    "response = requests.get(url)\n",
    "\n",
    "# Save the PDF file\n",
    "pdf_filename = \"fpc-manual.pdf\"\n",
    "with open(pdf_filename, 'wb') as file:\n",
    "    file.write(response.content)\n",
    "\n",
    "print(f\"PDF downloaded as {pdf_filename}\")\n"
   ]
  },
  {
   "cell_type": "code",
   "execution_count": null,
   "id": "4de0fa47-d3b1-4619-9393-8d0f72406d8b",
   "metadata": {
    "tags": []
   },
   "outputs": [],
   "source": [
    "import fitz  # PyMuPDF\n",
    "\n",
    "# Open the PDF document\n",
    "pdf_document = \"fpc-manual.pdf\"\n",
    "pdf = fitz.open(pdf_document)\n",
    "\n",
    "# Read and store the content of each page\n",
    "pages_content = []\n",
    "for page_num in range(len(pdf)):\n",
    "    page = pdf[page_num]\n",
    "    pages_content.append(page.get_text())\n",
    "\n",
    "# Print the first 500 characters of the first page as a sample\n",
    "print(pages_content[0][:500])\n"
   ]
  },
  {
   "cell_type": "code",
   "execution_count": null,
   "id": "caf1141a-fb58-40f2-a2a2-bf8d185d376f",
   "metadata": {
    "tags": []
   },
   "outputs": [],
   "source": [
    "from google.cloud import firestore\n",
    "\n",
    "# Initialize Firestore\n",
    "db = firestore.Client(project=PROJECT_ID)\n",
    "\n",
    "# Firestore collection name\n",
    "collection_name = \"page_content\"\n",
    "\n",
    "# Store each page's content in Firestore with a unique ID (page number)\n",
    "for i, content in enumerate(pages_content):\n",
    "    doc_id = str(i + 1)  # Page number as document ID\n",
    "    db.collection(collection_name).document(doc_id).set({\"content\": content})\n",
    "    print(f\"Stored page {i + 1} in Firestore with document ID {doc_id}\")\n"
   ]
  },
  {
   "cell_type": "code",
   "execution_count": null,
   "id": "40a1f3a9-4113-439c-9240-e90ee93583cc",
   "metadata": {
    "tags": []
   },
   "outputs": [],
   "source": [
    "from google.cloud import firestore\n",
    "\n",
    "# Initialize Firestore\n",
    "db = firestore.Client(project=PROJECT_ID)\n",
    "\n",
    "# Firestore collection name\n",
    "collection_name = \"page_content\"\n",
    "\n",
    "# Store each page's content in Firestore with a unique ID (page number)\n",
    "for i, content in enumerate(pages_content):\n",
    "    doc_id = str(i + 1)  # Page number as document ID\n",
    "    db.collection(collection_name).document(doc_id).set({\"content\": content})\n",
    "    print(f\"Stored page {i + 1} in Firestore with document ID {doc_id}\")\n"
   ]
  },
  {
   "cell_type": "code",
   "execution_count": null,
   "id": "45bc72df-4321-4d43-a854-dda4ff46b045",
   "metadata": {
    "tags": []
   },
   "outputs": [],
   "source": [
    "# Example text data (replace with your actual text data)\n",
    "texts = [\n",
    "    \"This is a sample text for embedding.\",\n",
    "    \"Another example text to generate embeddings.\"\n",
    "]\n",
    "\n",
    "# Assuming you have a model to generate embeddings (this is just a placeholder)\n",
    "# You need to define your actual model here, e.g., using a PredictionServiceClient\n",
    "embeddings = [\n",
    "    [0.1, 0.2, 0.3],  # Example embedding for the first text\n",
    "    [0.4, 0.5, 0.6]   # Example embedding for the second text\n",
    "]\n"
   ]
  },
  {
   "cell_type": "code",
   "execution_count": null,
   "id": "e6c5ca5f-ebf3-482f-8e46-3aea743f3bfb",
   "metadata": {
    "tags": []
   },
   "outputs": [],
   "source": [
    "import json\n",
    "\n",
    "# Create the JSON-L file\n",
    "jsonl_filename = \"embeddings.jsonl\"\n",
    "with open(jsonl_filename, 'w') as f:\n",
    "    for i, embedding in enumerate(embeddings):\n",
    "        doc_id = str(i + 1)\n",
    "        entry = {\"id\": doc_id, \"embedding\": embedding}\n",
    "        f.write(json.dumps(entry) + \"\\n\")\n",
    "    print(f\"JSON-L file created: {jsonl_filename}\")\n"
   ]
  },
  {
   "cell_type": "code",
   "execution_count": null,
   "id": "dd9818d4-cc7c-4218-bd79-e8f41a97a507",
   "metadata": {
    "tags": []
   },
   "outputs": [],
   "source": [
    "from google.cloud import storage\n",
    "\n",
    "# Initialize a storage client\n",
    "client = storage.Client()\n",
    "\n",
    "# Upload the JSON-L file\n",
    "bucket_name = PROJECT_ID\n",
    "bucket = client.bucket(bucket_name)\n",
    "blob = bucket.blob(jsonl_filename)\n",
    "blob.upload_from_filename(jsonl_filename)\n",
    "\n",
    "print(f\"{jsonl_filename} uploaded to {bucket_name}.\")\n"
   ]
  },
  {
   "cell_type": "code",
   "execution_count": null,
   "id": "adbcaba6-6240-44aa-8cd8-fea0da8d0459",
   "metadata": {
    "tags": []
   },
   "outputs": [],
   "source": [
    "from google.cloud import aiplatform\n",
    "from google.cloud import storage\n",
    "from google.cloud.aiplatform.gapic import PredictionServiceClient\n",
    "from google.cloud.aiplatform.gapic.schema import predict\n",
    "\n",
    "# Initialize the Vertex AI API\n",
    "aiplatform.init(project=PROJECT_ID, location=LOCATION)\n"
   ]
  },
  {
   "cell_type": "code",
   "execution_count": null,
   "id": "0d3cc3d4-7761-4d1c-a105-9d7eeae8132f",
   "metadata": {
    "tags": []
   },
   "outputs": [],
   "source": [
    "import json\n",
    "\n",
    "# Assuming you have the following variables\n",
    "# pages_content = [...]  # List of text content for each page\n",
    "# embeddings = [...]     # Corresponding embeddings generated for each page\n",
    "\n",
    "# Create a list to hold the JSON-L entries\n",
    "jsonl_data = []\n",
    "\n",
    "# Iterate through the embeddings and page numbers\n",
    "for i, embedding in enumerate(embeddings):\n",
    "    # Create a dictionary for each entry\n",
    "    entry = {\n",
    "        \"id\": str(i + 1),  # Page number (assuming 1-based index)\n",
    "        \"embedding\": embedding  # Directly use the embedding list\n",
    "    }\n",
    "    # Append the dictionary to the list\n",
    "    jsonl_data.append(entry)\n",
    "\n",
    "# Write the JSON-L data to the file\n",
    "jsonl_filename = \"embeddings.json\"\n",
    "with open(jsonl_filename, 'w') as jsonl_file:\n",
    "    for entry in jsonl_data:\n",
    "        # Convert the dictionary to a JSON string and write it to the file\n",
    "        jsonl_file.write(json.dumps(entry) + \"\\n\")\n",
    "\n",
    "print(f\"JSON-L file '{jsonl_filename}' created successfully.\")\n"
   ]
  },
  {
   "cell_type": "code",
   "execution_count": null,
   "id": "874609da-fc76-4610-a809-6eb5b6492ede",
   "metadata": {
    "tags": []
   },
   "outputs": [],
   "source": [
    "from google.cloud import storage\n",
    "\n",
    "# Initialize a storage client\n",
    "client = storage.Client()\n",
    "\n",
    "# Specify the bucket name\n",
    "bucket_name = PROJECT_ID\n",
    "\n",
    "# Upload the JSON-L file to the bucket\n",
    "bucket = client.bucket(bucket_name)\n",
    "blob = bucket.blob(jsonl_filename)\n",
    "blob.upload_from_filename(jsonl_filename)\n",
    "\n",
    "print(f\"File '{jsonl_filename}' uploaded to bucket '{bucket_name}'.\")\n"
   ]
  },
  {
   "cell_type": "code",
   "execution_count": null,
   "id": "cded26a0-ae20-4eff-b2b4-ffdc605116b9",
   "metadata": {
    "tags": []
   },
   "outputs": [],
   "source": [
    "from google.cloud import aiplatform\n",
    "from vertexai.language_models import TextEmbeddingModel\n",
    "\n",
    "# Initialize Vertex AI with your project and location\n",
    "aiplatform.init(project=PROJECT_ID, location=LOCATION)\n",
    "\n",
    "# Load the Text Embedding Model\n",
    "embedding_model = TextEmbeddingModel.from_pretrained(\"textembedding-gecko@002\")\n"
   ]
  },
  {
   "cell_type": "code",
   "execution_count": null,
   "id": "e758d347-674b-4128-a4f5-fba279d647df",
   "metadata": {
    "tags": []
   },
   "outputs": [],
   "source": [
    "BUCKET_URI = f\"gs://{PROJECT_ID}\"\n"
   ]
  },
  {
   "cell_type": "code",
   "execution_count": null,
   "id": "0e00b4b2-0b4b-4e3c-9aa3-fe81eb20824a",
   "metadata": {
    "tags": []
   },
   "outputs": [],
   "source": [
    "! gsutil mb -l \"$LOCATION\" -p \"$PROJECT_ID\" \"$BUCKET_URI\"\n",
    "! gsutil cp \"gs://github-repo/data/vs-quickstart/product-embs.json\" \"$BUCKET_URI\"\n"
   ]
  },
  {
   "cell_type": "code",
   "execution_count": null,
   "id": "fe18eb3f-3d9e-4109-ace8-e5ed426f779c",
   "metadata": {
    "tags": []
   },
   "outputs": [],
   "source": [
    "! gsutil cp \"gs://github-repo/data/vs-quickstart/product-embs.json\" . # for query tests\n"
   ]
  },
  {
   "cell_type": "code",
   "execution_count": null,
   "id": "9c108794-68a1-4012-a5e5-188015dde2f1",
   "metadata": {
    "tags": []
   },
   "outputs": [],
   "source": [
    "# init the aiplatform package\n",
    "from google.cloud import aiplatform\n",
    "\n",
    "aiplatform.init(project=PROJECT_ID, location=LOCATION)"
   ]
  },
  {
   "cell_type": "code",
   "execution_count": null,
   "id": "51153d89-54f1-4b82-a969-97d4df30eeac",
   "metadata": {
    "tags": []
   },
   "outputs": [],
   "source": [
    "# create Index\n",
    "my_index = aiplatform.MatchingEngineIndex.create_tree_ah_index(\n",
    "    display_name=f\"assessment-index-endpoint\",\n",
    "    contents_delta_uri=BUCKET_URI,\n",
    "    dimensions=768,\n",
    "    approximate_neighbors_count=10,\n",
    ")"
   ]
  },
  {
   "cell_type": "code",
   "execution_count": null,
   "id": "bf6e1d5b-52ad-4a1d-b6f9-3ed3543ff1ea",
   "metadata": {
    "tags": []
   },
   "outputs": [],
   "source": [
    "# create IndexEndpoint\n",
    "my_index_endpoint = aiplatform.MatchingEngineIndexEndpoint.create(\n",
    "    display_name=f\"assessment-index-endpoint\", public_endpoint_enabled=True\n",
    ")"
   ]
  },
  {
   "cell_type": "code",
   "execution_count": null,
   "id": "eabad7e8-46e8-4a95-b8b8-f083f6726372",
   "metadata": {
    "tags": []
   },
   "outputs": [],
   "source": [
    "DEPLOYED_INDEX_ID = f\"assessment_index_endpoint\"\n"
   ]
  },
  {
   "cell_type": "code",
   "execution_count": null,
   "id": "a234db41-5c7c-413a-a2aa-4002a8e99552",
   "metadata": {
    "tags": []
   },
   "outputs": [],
   "source": [
    "my_index_endpoint.deploy_index(index=my_index, deployed_index_id=DEPLOYED_INDEX_ID)\n"
   ]
  },
  {
   "cell_type": "code",
   "execution_count": null,
   "id": "d0a38bbb-d5f4-42ef-bb3a-a97fdd16d648",
   "metadata": {},
   "outputs": [],
   "source": []
  }
 ],
 "metadata": {
  "environment": {
   "kernel": "python3",
   "name": ".m124",
   "type": "gcloud",
   "uri": "us-docker.pkg.dev/deeplearning-platform-release/gcr.io/:m124"
  },
  "kernelspec": {
   "display_name": "Python 3 (ipykernel) (Local)",
   "language": "python",
   "name": "python3"
  },
  "language_info": {
   "codemirror_mode": {
    "name": "ipython",
    "version": 3
   },
   "file_extension": ".py",
   "mimetype": "text/x-python",
   "name": "python",
   "nbconvert_exporter": "python",
   "pygments_lexer": "ipython3",
   "version": "3.10.14"
  }
 },
 "nbformat": 4,
 "nbformat_minor": 5
}
